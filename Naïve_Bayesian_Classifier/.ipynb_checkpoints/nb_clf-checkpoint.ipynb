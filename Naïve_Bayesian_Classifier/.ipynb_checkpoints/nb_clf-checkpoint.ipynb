{
 "cells": [
  {
   "cell_type": "markdown",
   "metadata": {},
   "source": [
    "# Naïve Bayesian classifier"
   ]
  },
  {
   "cell_type": "markdown",
   "metadata": {},
   "source": [
    "Write a program to implement the naïve Bayesian classifier for a sample training data set stored as a .CSV file. Compute the accuracy of the classifier, considering few test data sets."
   ]
  },
  {
   "cell_type": "code",
   "execution_count": 134,
   "metadata": {},
   "outputs": [],
   "source": [
    "import pandas as pd\n",
    "import math\n",
    "import numpy as np"
   ]
  },
  {
   "cell_type": "code",
   "execution_count": 135,
   "metadata": {},
   "outputs": [],
   "source": [
    "# load the data\n",
    "df = pd.read_csv(\"pima-indians-diabetes.csv\",header=None)"
   ]
  },
  {
   "cell_type": "code",
   "execution_count": 136,
   "metadata": {},
   "outputs": [
    {
     "data": {
      "text/plain": [
       "array([[  0.   , 135.   ,  68.   , ...,   0.365,  24.   ,   1.   ],\n",
       "       [  6.   , 162.   ,  62.   , ...,   0.178,  50.   ,   1.   ],\n",
       "       [  4.   , 146.   ,  78.   , ...,   0.52 ,  67.   ,   1.   ],\n",
       "       ...,\n",
       "       [  2.   ,  71.   ,  70.   , ...,   0.586,  22.   ,   0.   ],\n",
       "       [  1.   , 139.   ,  46.   , ...,   0.654,  22.   ,   0.   ],\n",
       "       [ 10.   , 139.   ,  80.   , ...,   1.441,  57.   ,   0.   ]])"
      ]
     },
     "execution_count": 136,
     "metadata": {},
     "output_type": "execute_result"
    }
   ],
   "source": [
    "# shuffle and convert to arrays of float type values\n",
    "data = df.sample(frac=1).astype(float).values\n",
    "data"
   ]
  },
  {
   "cell_type": "code",
   "execution_count": 137,
   "metadata": {},
   "outputs": [],
   "source": [
    "# split data based on a ratio\n",
    "split_ratio = 0.8\n",
    "train = data[:int(len(data)*split_ratio),:] \n",
    "test = data[int(len(data)*split_ratio)+1:,:]"
   ]
  },
  {
   "cell_type": "code",
   "execution_count": 138,
   "metadata": {},
   "outputs": [
    {
     "data": {
      "text/plain": [
       "614"
      ]
     },
     "execution_count": 138,
     "metadata": {},
     "output_type": "execute_result"
    }
   ],
   "source": [
    "len(train)"
   ]
  },
  {
   "cell_type": "code",
   "execution_count": 139,
   "metadata": {},
   "outputs": [
    {
     "data": {
      "text/plain": [
       "153"
      ]
     },
     "execution_count": 139,
     "metadata": {},
     "output_type": "execute_result"
    }
   ],
   "source": [
    "len(test)"
   ]
  },
  {
   "cell_type": "code",
   "execution_count": 140,
   "metadata": {},
   "outputs": [
    {
     "name": "stdout",
     "output_type": "stream",
     "text": [
      "(array([0., 1.]), array([402, 212]))\n",
      "(array([0., 1.]), array([98, 55]))\n"
     ]
    }
   ],
   "source": [
    "# Returns the uniques values in the data and their count,we assume the last column to be the target class i.e- 0/1\n",
    "print(np.unique(train[:,-1],return_counts=True))\n",
    "print(np.unique(test[:,-1],return_counts=True))"
   ]
  },
  {
   "cell_type": "code",
   "execution_count": 141,
   "metadata": {},
   "outputs": [],
   "source": [
    "# Summerize by class"
   ]
  },
  {
   "cell_type": "code",
   "execution_count": 142,
   "metadata": {},
   "outputs": [],
   "source": [
    "# First seperate by class\n",
    "def seperateByClass(data):\n",
    "    seperated = {}\n",
    "    # loop over each row\n",
    "    for i in range(len(data)):\n",
    "        # If no such class exists , create one\n",
    "        if data[i][-1] not in seperated.keys():\n",
    "            seperated[data[i][-1]]=[]\n",
    "            \n",
    "        # append the data sample to that class group\n",
    "        seperated[data[i][-1]].append(data[i])\n",
    "    \n",
    "    return seperated"
   ]
  },
  {
   "cell_type": "code",
   "execution_count": 143,
   "metadata": {},
   "outputs": [
    {
     "data": {
      "text/plain": [
       "dict_keys([1.0, 0.0])"
      ]
     },
     "execution_count": 143,
     "metadata": {},
     "output_type": "execute_result"
    }
   ],
   "source": [
    "# call seperate by class func\n",
    "seperatedData = seperateByClass(train)\n",
    "seperatedData.keys()"
   ]
  },
  {
   "cell_type": "code",
   "execution_count": 144,
   "metadata": {},
   "outputs": [],
   "source": [
    "# create summaries for each class using the seperated values\n",
    "summaries = {}\n",
    "\n",
    "# to do that we need the below summarize function\n",
    "\n",
    "# helper function to calc mean of a column\n",
    "def mean(data):\n",
    "    return sum(data)/float(len(data))\n",
    "\n",
    "# helper function to calc std dev of a column\n",
    "def std_dev(data):\n",
    "    # std dev is sqrt of variance \n",
    "    # variance = sum over all values from i=1 to n :  (( x_i - x_mean )^2 ) / ( n - 1 )\n",
    "    x_mean = mean(data)\n",
    "    variance =  sum([pow(x - x_mean,2) for x in data]) # Numerator\n",
    "    variance = variance / float(len(data)-1) # Denominator\n",
    "    return math.sqrt(variance)\n",
    "\n",
    "def summarize(data):\n",
    "    # here we calc and store the mean and std dev of each data sample\n",
    "    summary = []\n",
    "    # Calculate mean and std_dev for each attribute column, zip(*data) unpacks list of rows (data),as a list of cols\n",
    "    for attrb_col in zip(*data):\n",
    "        summary.append([mean(attrb_col),std_dev(attrb_col)])\n",
    "\n",
    "    # remove the entries for the last column as we dont need the summary of the target column\n",
    "    del summary[-1]\n",
    "    \n",
    "    return summary"
   ]
  },
  {
   "cell_type": "code",
   "execution_count": 145,
   "metadata": {},
   "outputs": [
    {
     "name": "stdout",
     "output_type": "stream",
     "text": [
      "All data has been summarized and store in summaries dict\n"
     ]
    }
   ],
   "source": [
    "# call summerize for each class and store the value in summaries\n",
    "for className,rows in seperatedData.items():\n",
    "    summaries[className] = summarize(rows)\n",
    "    \n",
    "print(\"All data has been summarized and store in summaries dict\")"
   ]
  },
  {
   "cell_type": "code",
   "execution_count": 146,
   "metadata": {},
   "outputs": [],
   "source": [
    "# Now that we have the summaries we can use them to make predictions for new attributes to predict target class"
   ]
  },
  {
   "cell_type": "code",
   "execution_count": 147,
   "metadata": {},
   "outputs": [],
   "source": [
    "def getProb(a , mean , std):\n",
    "    \"\"\"\n",
    "    1/(sqrt(2*pi)*std_dev) * e to power -((x-mean)**2 / (2 * std_dev**2) )  <-- represents a normal distribution\n",
    "    \"\"\"\n",
    "    return (1/(math.sqrt(2*math.pi)*std)) * math.exp(-((a-mean)**2 / (2 * pow(std,2)) ))"
   ]
  },
  {
   "cell_type": "code",
   "execution_count": 148,
   "metadata": {},
   "outputs": [],
   "source": [
    "def getClassProbabilities(summaries,test_attributes):\n",
    "    classProbs = {}\n",
    "    for classLabel,summary in summaries.items():\n",
    "        # We initialize the prob of the class to be 1 , cause we will be using this var for mul op below\n",
    "        classProbs[classLabel] = 1\n",
    "        #loop over each col in test_attr \n",
    "        for i in range(len(summary)):\n",
    "            # extract mean and std for that col from summary\n",
    "            mean,std = summary[i]\n",
    "            # get attribute from the test_attrs to find its conditional prob\n",
    "            attrib = test_attributes[i]\n",
    "            # multiply classProb with condition prob of all the attributes of the row\n",
    "            classProbs[classLabel] *= getProb(attrib,mean,std)\n",
    "    #print(\"Class prob = \",classProbs)\n",
    "    return classProbs"
   ]
  },
  {
   "cell_type": "code",
   "execution_count": 149,
   "metadata": {},
   "outputs": [],
   "source": [
    "# below func can predict the target class label given the attributes\n",
    "def predict(summaries,test_attributes):\n",
    "    # we will have the first get the probability of each class given the test_attrib\n",
    "    probs = getClassProbabilities(summaries,test_attributes)\n",
    "    #print(probs)\n",
    "    best_class = None\n",
    "    best_prob  = -1\n",
    "    # the label with the higher prob will be assigned \n",
    "    for cls,prob in probs.items():\n",
    "        if best_class is None or prob > best_prob:\n",
    "            best_class = cls\n",
    "            best_prob = prob\n",
    "    \n",
    "    return best_class,best_prob "
   ]
  },
  {
   "cell_type": "code",
   "execution_count": 150,
   "metadata": {},
   "outputs": [],
   "source": [
    "def eval_test(summaries,test):\n",
    "    score = 0\n",
    "    \n",
    "    # for each row in the test data\n",
    "    for t in test:\n",
    "        # Predict the class \n",
    "        cls,prob = predict(summaries,t)\n",
    "        print(f\"test target = {t[-1]} , predicted = {cls} \")\n",
    "        # Check if target == predicted and update score\n",
    "        if t[-1] == cls:\n",
    "            score+=1\n",
    "    \n",
    "    print(\"Score = \",score,\"/\",len(test))\n",
    "    return score/len(test)"
   ]
  },
  {
   "cell_type": "code",
   "execution_count": 151,
   "metadata": {},
   "outputs": [
    {
     "name": "stdout",
     "output_type": "stream",
     "text": [
      "test target = 0.0 , predicted = 0.0 \n",
      "test target = 0.0 , predicted = 1.0 \n",
      "test target = 0.0 , predicted = 1.0 \n",
      "test target = 1.0 , predicted = 0.0 \n",
      "test target = 0.0 , predicted = 0.0 \n",
      "test target = 0.0 , predicted = 0.0 \n",
      "test target = 0.0 , predicted = 0.0 \n",
      "test target = 1.0 , predicted = 1.0 \n",
      "test target = 0.0 , predicted = 0.0 \n",
      "test target = 1.0 , predicted = 0.0 \n",
      "test target = 1.0 , predicted = 1.0 \n",
      "test target = 0.0 , predicted = 0.0 \n",
      "test target = 0.0 , predicted = 0.0 \n",
      "test target = 0.0 , predicted = 0.0 \n",
      "test target = 1.0 , predicted = 0.0 \n",
      "test target = 0.0 , predicted = 1.0 \n",
      "test target = 0.0 , predicted = 0.0 \n",
      "test target = 0.0 , predicted = 1.0 \n",
      "test target = 0.0 , predicted = 1.0 \n",
      "test target = 0.0 , predicted = 0.0 \n",
      "test target = 1.0 , predicted = 0.0 \n",
      "test target = 0.0 , predicted = 0.0 \n",
      "test target = 0.0 , predicted = 0.0 \n",
      "test target = 0.0 , predicted = 1.0 \n",
      "test target = 0.0 , predicted = 0.0 \n",
      "test target = 0.0 , predicted = 0.0 \n",
      "test target = 0.0 , predicted = 0.0 \n",
      "test target = 0.0 , predicted = 1.0 \n",
      "test target = 0.0 , predicted = 0.0 \n",
      "test target = 1.0 , predicted = 1.0 \n",
      "test target = 1.0 , predicted = 1.0 \n",
      "test target = 1.0 , predicted = 1.0 \n",
      "test target = 0.0 , predicted = 0.0 \n",
      "test target = 0.0 , predicted = 1.0 \n",
      "test target = 1.0 , predicted = 1.0 \n",
      "test target = 1.0 , predicted = 1.0 \n",
      "test target = 0.0 , predicted = 0.0 \n",
      "test target = 0.0 , predicted = 0.0 \n",
      "test target = 0.0 , predicted = 0.0 \n",
      "test target = 1.0 , predicted = 1.0 \n",
      "test target = 1.0 , predicted = 1.0 \n",
      "test target = 1.0 , predicted = 0.0 \n",
      "test target = 0.0 , predicted = 0.0 \n",
      "test target = 0.0 , predicted = 0.0 \n",
      "test target = 1.0 , predicted = 0.0 \n",
      "test target = 1.0 , predicted = 1.0 \n",
      "test target = 0.0 , predicted = 1.0 \n",
      "test target = 0.0 , predicted = 0.0 \n",
      "test target = 0.0 , predicted = 1.0 \n",
      "test target = 1.0 , predicted = 0.0 \n",
      "test target = 1.0 , predicted = 1.0 \n",
      "test target = 0.0 , predicted = 1.0 \n",
      "test target = 0.0 , predicted = 0.0 \n",
      "test target = 0.0 , predicted = 0.0 \n",
      "test target = 1.0 , predicted = 0.0 \n",
      "test target = 1.0 , predicted = 1.0 \n",
      "test target = 0.0 , predicted = 1.0 \n",
      "test target = 1.0 , predicted = 1.0 \n",
      "test target = 0.0 , predicted = 1.0 \n",
      "test target = 1.0 , predicted = 0.0 \n",
      "test target = 1.0 , predicted = 1.0 \n",
      "test target = 0.0 , predicted = 0.0 \n",
      "test target = 0.0 , predicted = 0.0 \n",
      "test target = 0.0 , predicted = 0.0 \n",
      "test target = 0.0 , predicted = 1.0 \n",
      "test target = 1.0 , predicted = 1.0 \n",
      "test target = 0.0 , predicted = 1.0 \n",
      "test target = 0.0 , predicted = 0.0 \n",
      "test target = 0.0 , predicted = 0.0 \n",
      "test target = 0.0 , predicted = 1.0 \n",
      "test target = 0.0 , predicted = 0.0 \n",
      "test target = 0.0 , predicted = 1.0 \n",
      "test target = 0.0 , predicted = 0.0 \n",
      "test target = 1.0 , predicted = 1.0 \n",
      "test target = 1.0 , predicted = 1.0 \n",
      "test target = 0.0 , predicted = 0.0 \n",
      "test target = 1.0 , predicted = 1.0 \n",
      "test target = 0.0 , predicted = 0.0 \n",
      "test target = 1.0 , predicted = 1.0 \n",
      "test target = 0.0 , predicted = 0.0 \n",
      "test target = 0.0 , predicted = 1.0 \n",
      "test target = 0.0 , predicted = 0.0 \n",
      "test target = 1.0 , predicted = 0.0 \n",
      "test target = 1.0 , predicted = 1.0 \n",
      "test target = 0.0 , predicted = 0.0 \n",
      "test target = 1.0 , predicted = 1.0 \n",
      "test target = 1.0 , predicted = 1.0 \n",
      "test target = 0.0 , predicted = 0.0 \n",
      "test target = 1.0 , predicted = 1.0 \n",
      "test target = 0.0 , predicted = 0.0 \n",
      "test target = 0.0 , predicted = 1.0 \n",
      "test target = 1.0 , predicted = 1.0 \n",
      "test target = 1.0 , predicted = 0.0 \n",
      "test target = 0.0 , predicted = 1.0 \n",
      "test target = 0.0 , predicted = 1.0 \n",
      "test target = 1.0 , predicted = 1.0 \n",
      "test target = 0.0 , predicted = 0.0 \n",
      "test target = 0.0 , predicted = 0.0 \n",
      "test target = 0.0 , predicted = 0.0 \n",
      "test target = 1.0 , predicted = 1.0 \n",
      "test target = 0.0 , predicted = 0.0 \n",
      "test target = 0.0 , predicted = 1.0 \n",
      "test target = 0.0 , predicted = 0.0 \n",
      "test target = 1.0 , predicted = 1.0 \n",
      "test target = 0.0 , predicted = 0.0 \n",
      "test target = 1.0 , predicted = 0.0 \n",
      "test target = 0.0 , predicted = 0.0 \n",
      "test target = 0.0 , predicted = 1.0 \n",
      "test target = 0.0 , predicted = 0.0 \n",
      "test target = 1.0 , predicted = 0.0 \n",
      "test target = 1.0 , predicted = 1.0 \n",
      "test target = 0.0 , predicted = 1.0 \n",
      "test target = 0.0 , predicted = 0.0 \n",
      "test target = 1.0 , predicted = 0.0 \n",
      "test target = 1.0 , predicted = 0.0 \n",
      "test target = 0.0 , predicted = 0.0 \n",
      "test target = 0.0 , predicted = 1.0 \n",
      "test target = 0.0 , predicted = 0.0 \n",
      "test target = 1.0 , predicted = 1.0 \n",
      "test target = 0.0 , predicted = 0.0 \n",
      "test target = 0.0 , predicted = 1.0 \n",
      "test target = 0.0 , predicted = 0.0 \n",
      "test target = 0.0 , predicted = 0.0 \n",
      "test target = 1.0 , predicted = 1.0 \n",
      "test target = 1.0 , predicted = 1.0 \n",
      "test target = 0.0 , predicted = 0.0 \n",
      "test target = 1.0 , predicted = 1.0 \n",
      "test target = 0.0 , predicted = 0.0 \n",
      "test target = 0.0 , predicted = 1.0 \n",
      "test target = 1.0 , predicted = 1.0 \n",
      "test target = 0.0 , predicted = 0.0 \n",
      "test target = 0.0 , predicted = 0.0 \n",
      "test target = 1.0 , predicted = 0.0 \n",
      "test target = 0.0 , predicted = 0.0 \n",
      "test target = 1.0 , predicted = 1.0 \n",
      "test target = 1.0 , predicted = 1.0 \n",
      "test target = 1.0 , predicted = 1.0 \n",
      "test target = 1.0 , predicted = 1.0 \n",
      "test target = 0.0 , predicted = 0.0 \n",
      "test target = 0.0 , predicted = 0.0 \n",
      "test target = 0.0 , predicted = 0.0 \n",
      "test target = 0.0 , predicted = 0.0 \n",
      "test target = 0.0 , predicted = 0.0 \n",
      "test target = 0.0 , predicted = 0.0 \n",
      "test target = 0.0 , predicted = 1.0 \n",
      "test target = 0.0 , predicted = 1.0 \n",
      "test target = 0.0 , predicted = 1.0 \n",
      "test target = 1.0 , predicted = 1.0 \n",
      "test target = 0.0 , predicted = 0.0 \n",
      "test target = 1.0 , predicted = 0.0 \n",
      "test target = 0.0 , predicted = 0.0 \n",
      "test target = 0.0 , predicted = 0.0 \n",
      "test target = 0.0 , predicted = 1.0 \n",
      "Score =  105 / 153\n"
     ]
    }
   ],
   "source": [
    "res = eval_test(summaries,test)"
   ]
  },
  {
   "cell_type": "code",
   "execution_count": 152,
   "metadata": {},
   "outputs": [
    {
     "name": "stdout",
     "output_type": "stream",
     "text": [
      "Accuracy =  68.62745098039215\n"
     ]
    }
   ],
   "source": [
    "print(\"Accuracy = \",res*100)"
   ]
  },
  {
   "cell_type": "markdown",
   "metadata": {},
   "source": [
    "# End"
   ]
  }
 ],
 "metadata": {
  "kernelspec": {
   "display_name": "Python 3",
   "language": "python",
   "name": "python3"
  },
  "language_info": {
   "codemirror_mode": {
    "name": "ipython",
    "version": 3
   },
   "file_extension": ".py",
   "mimetype": "text/x-python",
   "name": "python",
   "nbconvert_exporter": "python",
   "pygments_lexer": "ipython3",
   "version": "3.6.9"
  }
 },
 "nbformat": 4,
 "nbformat_minor": 4
}
