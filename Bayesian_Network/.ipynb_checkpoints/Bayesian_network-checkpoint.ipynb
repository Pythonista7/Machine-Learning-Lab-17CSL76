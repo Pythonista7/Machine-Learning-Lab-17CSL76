{
 "cells": [
  {
   "cell_type": "markdown",
   "metadata": {},
   "source": [
    "# Bayesian Network"
   ]
  },
  {
   "cell_type": "markdown",
   "metadata": {},
   "source": [
    "Write a program to construct aBayesian network considering medical data. Use this model to demonstrate the diagnosis of heart patients using standard Heart Disease Data Set. You can use Java/Python ML library classes/API."
   ]
  },
  {
   "cell_type": "code",
   "execution_count": 2,
   "metadata": {
    "colab": {
     "base_uri": "https://localhost:8080/"
    },
    "id": "m_WktAP9wnhc",
    "outputId": "234efc80-c522-403d-db61-f85cff30d027"
   },
   "outputs": [
    {
     "name": "stdout",
     "output_type": "stream",
     "text": [
      "Collecting pgmpy\n",
      "\u001b[?25l  Downloading https://files.pythonhosted.org/packages/06/19/d508949e8ac7b32e639f15e854a5f5ed710a4118e4f6692bddaccc390d88/pgmpy-0.1.13-py3-none-any.whl (324kB)\n",
      "\r",
      "\u001b[K     |█                               | 10kB 15.9MB/s eta 0:00:01\r",
      "\u001b[K     |██                              | 20kB 19.5MB/s eta 0:00:01\r",
      "\u001b[K     |███                             | 30kB 11.0MB/s eta 0:00:01\r",
      "\u001b[K     |████                            | 40kB 8.8MB/s eta 0:00:01\r",
      "\u001b[K     |█████                           | 51kB 7.9MB/s eta 0:00:01\r",
      "\u001b[K     |██████                          | 61kB 8.1MB/s eta 0:00:01\r",
      "\u001b[K     |███████                         | 71kB 7.9MB/s eta 0:00:01\r",
      "\u001b[K     |████████                        | 81kB 8.1MB/s eta 0:00:01\r",
      "\u001b[K     |█████████                       | 92kB 8.4MB/s eta 0:00:01\r",
      "\u001b[K     |██████████                      | 102kB 7.4MB/s eta 0:00:01\r",
      "\u001b[K     |███████████                     | 112kB 7.4MB/s eta 0:00:01\r",
      "\u001b[K     |████████████▏                   | 122kB 7.4MB/s eta 0:00:01\r",
      "\u001b[K     |█████████████▏                  | 133kB 7.4MB/s eta 0:00:01\r",
      "\u001b[K     |██████████████▏                 | 143kB 7.4MB/s eta 0:00:01\r",
      "\u001b[K     |███████████████▏                | 153kB 7.4MB/s eta 0:00:01\r",
      "\u001b[K     |████████████████▏               | 163kB 7.4MB/s eta 0:00:01\r",
      "\u001b[K     |█████████████████▏              | 174kB 7.4MB/s eta 0:00:01\r",
      "\u001b[K     |██████████████████▏             | 184kB 7.4MB/s eta 0:00:01\r",
      "\u001b[K     |███████████████████▏            | 194kB 7.4MB/s eta 0:00:01\r",
      "\u001b[K     |████████████████████▏           | 204kB 7.4MB/s eta 0:00:01\r",
      "\u001b[K     |█████████████████████▏          | 215kB 7.4MB/s eta 0:00:01\r",
      "\u001b[K     |██████████████████████▏         | 225kB 7.4MB/s eta 0:00:01\r",
      "\u001b[K     |███████████████████████▎        | 235kB 7.4MB/s eta 0:00:01\r",
      "\u001b[K     |████████████████████████▎       | 245kB 7.4MB/s eta 0:00:01\r",
      "\u001b[K     |█████████████████████████▎      | 256kB 7.4MB/s eta 0:00:01\r",
      "\u001b[K     |██████████████████████████▎     | 266kB 7.4MB/s eta 0:00:01\r",
      "\u001b[K     |███████████████████████████▎    | 276kB 7.4MB/s eta 0:00:01\r",
      "\u001b[K     |████████████████████████████▎   | 286kB 7.4MB/s eta 0:00:01\r",
      "\u001b[K     |█████████████████████████████▎  | 296kB 7.4MB/s eta 0:00:01\r",
      "\u001b[K     |██████████████████████████████▎ | 307kB 7.4MB/s eta 0:00:01\r",
      "\u001b[K     |███████████████████████████████▎| 317kB 7.4MB/s eta 0:00:01\r",
      "\u001b[K     |████████████████████████████████| 327kB 7.4MB/s \n",
      "\u001b[?25hRequirement already satisfied: joblib in /usr/local/lib/python3.6/dist-packages (from pgmpy) (1.0.0)\n",
      "Requirement already satisfied: numpy in /usr/local/lib/python3.6/dist-packages (from pgmpy) (1.19.5)\n",
      "Requirement already satisfied: pandas in /usr/local/lib/python3.6/dist-packages (from pgmpy) (1.1.5)\n",
      "Requirement already satisfied: pyparsing in /usr/local/lib/python3.6/dist-packages (from pgmpy) (2.4.7)\n",
      "Requirement already satisfied: networkx in /usr/local/lib/python3.6/dist-packages (from pgmpy) (2.5)\n",
      "Requirement already satisfied: torch in /usr/local/lib/python3.6/dist-packages (from pgmpy) (1.7.0+cu101)\n",
      "Requirement already satisfied: statsmodels in /usr/local/lib/python3.6/dist-packages (from pgmpy) (0.10.2)\n",
      "Requirement already satisfied: scipy in /usr/local/lib/python3.6/dist-packages (from pgmpy) (1.4.1)\n",
      "Requirement already satisfied: tqdm in /usr/local/lib/python3.6/dist-packages (from pgmpy) (4.41.1)\n",
      "Requirement already satisfied: scikit-learn in /usr/local/lib/python3.6/dist-packages (from pgmpy) (0.22.2.post1)\n",
      "Requirement already satisfied: pytz>=2017.2 in /usr/local/lib/python3.6/dist-packages (from pandas->pgmpy) (2018.9)\n",
      "Requirement already satisfied: python-dateutil>=2.7.3 in /usr/local/lib/python3.6/dist-packages (from pandas->pgmpy) (2.8.1)\n",
      "Requirement already satisfied: decorator>=4.3.0 in /usr/local/lib/python3.6/dist-packages (from networkx->pgmpy) (4.4.2)\n",
      "Requirement already satisfied: dataclasses in /usr/local/lib/python3.6/dist-packages (from torch->pgmpy) (0.8)\n",
      "Requirement already satisfied: typing-extensions in /usr/local/lib/python3.6/dist-packages (from torch->pgmpy) (3.7.4.3)\n",
      "Requirement already satisfied: future in /usr/local/lib/python3.6/dist-packages (from torch->pgmpy) (0.16.0)\n",
      "Requirement already satisfied: patsy>=0.4.0 in /usr/local/lib/python3.6/dist-packages (from statsmodels->pgmpy) (0.5.1)\n",
      "Requirement already satisfied: six>=1.5 in /usr/local/lib/python3.6/dist-packages (from python-dateutil>=2.7.3->pandas->pgmpy) (1.15.0)\n",
      "Installing collected packages: pgmpy\n",
      "Successfully installed pgmpy-0.1.13\n"
     ]
    }
   ],
   "source": [
    "#Install dependency\n",
    "!pip install pgmpy "
   ]
  },
  {
   "cell_type": "code",
   "execution_count": 6,
   "metadata": {
    "id": "wo_mXqMFxUzo"
   },
   "outputs": [],
   "source": [
    "from pgmpy.models import BayesianModel \n",
    "from pgmpy.estimators import MaximumLikelihoodEstimator"
   ]
  },
  {
   "cell_type": "code",
   "execution_count": 5,
   "metadata": {
    "id": "j4c97Y2jxpmK"
   },
   "outputs": [],
   "source": [
    "# URL to download the dataset\n",
    "data = \"http://archive.ics.uci.edu/ml/machine-learning-databases/heart-disease/processed.hungarian.data\""
   ]
  },
  {
   "cell_type": "code",
   "execution_count": 1,
   "metadata": {
    "id": "WfsOUZ1qxY76"
   },
   "outputs": [],
   "source": [
    "# Import all dependencies\n",
    "import numpy as np\n",
    "from urllib.request import urlopen\n",
    "import urllib\n",
    "import matplotlib.pyplot as plt\n",
    "import sklearn as skl\n",
    "import pandas as pd"
   ]
  },
  {
   "cell_type": "markdown",
   "metadata": {},
   "source": [
    "https://archive.ics.uci.edu/ml/datasets/heart+disease <br>\n",
    "14 attributes used:\n",
    "1. #3 (age)  3 age: age in years \n",
    "2. #4 (sex)  sex: sex (1 = male; 0 = female) \n",
    "3. #9 (cp) chest pain type\n",
    "        -- Value 1: typical angina\n",
    "        -- Value 2: atypical angina\n",
    "        -- Value 3: non-anginal pain\n",
    "        -- Value 4: asymptomatic \n",
    "4. #10 (trestbps) resting blood pressure (in mm Hg on admission to the hospital) \n",
    "5. #12 (chol) serum cholestoral in mg/dl \n",
    "6. #16 (fbs) (fasting blood sugar > 120 mg/dl) (1 = true; 0 = false) \n",
    "7. #19 (restecg) resting electrocardiographic results\n",
    "        -- Value 0: normal\n",
    "        -- Value 1: having ST-T wave abnormality (T wave inversions and/or ST elevation or depression of > 0.05 mV)\n",
    "        -- Value 2: showing probable or definite left ventricular hypertrophy by Estes' criteria \n",
    "8. #32 (thalach) maximum heart rate achieved \n",
    "9. #38 (exang) exercise induced angina (1 = yes; 0 = no) \n",
    "10. #40 (oldpeak) oldpeak = ST depression induced by exercise relative to rest \n",
    "11. #41 (slope) slope: the slope of the peak exercise ST segment\n",
    "        -- Value 1: upsloping\n",
    "        -- Value 2: flat\n",
    "        -- Value 3: downsloping \n",
    "12. #44 (ca) number of major vessels (0-3) colored by flourosopy \n",
    "13. #51 (thal)  thal: 3 = normal; 6 = fixed defect; 7 = reversable defect \n",
    "14. #58 (num) (the predicted attribute)"
   ]
  },
  {
   "cell_type": "code",
   "execution_count": 17,
   "metadata": {
    "colab": {
     "base_uri": "https://localhost:8080/",
     "height": 143
    },
    "id": "GGp516ofqEWi",
    "outputId": "063a1a0d-97a8-439d-ef91-4c072058bf33"
   },
   "outputs": [
    {
     "data": {
      "text/html": [
       "<div>\n",
       "<style scoped>\n",
       "    .dataframe tbody tr th:only-of-type {\n",
       "        vertical-align: middle;\n",
       "    }\n",
       "\n",
       "    .dataframe tbody tr th {\n",
       "        vertical-align: top;\n",
       "    }\n",
       "\n",
       "    .dataframe thead th {\n",
       "        text-align: right;\n",
       "    }\n",
       "</style>\n",
       "<table border=\"1\" class=\"dataframe\">\n",
       "  <thead>\n",
       "    <tr style=\"text-align: right;\">\n",
       "      <th></th>\n",
       "      <th>age</th>\n",
       "      <th>sex</th>\n",
       "      <th>cp</th>\n",
       "      <th>trestbps</th>\n",
       "      <th>chol</th>\n",
       "      <th>fbs</th>\n",
       "      <th>restecg</th>\n",
       "      <th>thalach</th>\n",
       "      <th>exang</th>\n",
       "      <th>oldpeak</th>\n",
       "      <th>slope</th>\n",
       "      <th>ca</th>\n",
       "      <th>thal</th>\n",
       "      <th>heartdisease</th>\n",
       "    </tr>\n",
       "  </thead>\n",
       "  <tbody>\n",
       "    <tr>\n",
       "      <th>0</th>\n",
       "      <td>28</td>\n",
       "      <td>1</td>\n",
       "      <td>2</td>\n",
       "      <td>130</td>\n",
       "      <td>132</td>\n",
       "      <td>0</td>\n",
       "      <td>2</td>\n",
       "      <td>185</td>\n",
       "      <td>0</td>\n",
       "      <td>0.0</td>\n",
       "      <td>?</td>\n",
       "      <td>?</td>\n",
       "      <td>?</td>\n",
       "      <td>0</td>\n",
       "    </tr>\n",
       "    <tr>\n",
       "      <th>1</th>\n",
       "      <td>29</td>\n",
       "      <td>1</td>\n",
       "      <td>2</td>\n",
       "      <td>120</td>\n",
       "      <td>243</td>\n",
       "      <td>0</td>\n",
       "      <td>0</td>\n",
       "      <td>160</td>\n",
       "      <td>0</td>\n",
       "      <td>0.0</td>\n",
       "      <td>?</td>\n",
       "      <td>?</td>\n",
       "      <td>?</td>\n",
       "      <td>0</td>\n",
       "    </tr>\n",
       "    <tr>\n",
       "      <th>2</th>\n",
       "      <td>29</td>\n",
       "      <td>1</td>\n",
       "      <td>2</td>\n",
       "      <td>140</td>\n",
       "      <td>?</td>\n",
       "      <td>0</td>\n",
       "      <td>0</td>\n",
       "      <td>170</td>\n",
       "      <td>0</td>\n",
       "      <td>0.0</td>\n",
       "      <td>?</td>\n",
       "      <td>?</td>\n",
       "      <td>?</td>\n",
       "      <td>0</td>\n",
       "    </tr>\n",
       "  </tbody>\n",
       "</table>\n",
       "</div>"
      ],
      "text/plain": [
       "   age  sex  cp trestbps chol fbs  ... exang oldpeak slope  ca thal heartdisease\n",
       "0   28    1   2      130  132   0  ...     0     0.0     ?   ?    ?            0\n",
       "1   29    1   2      120  243   0  ...     0     0.0     ?   ?    ?            0\n",
       "2   29    1   2      140    ?   0  ...     0     0.0     ?   ?    ?            0\n",
       "\n",
       "[3 rows x 14 columns]"
      ]
     },
     "execution_count": 17,
     "metadata": {
      "tags": []
     },
     "output_type": "execute_result"
    }
   ],
   "source": [
    "# Coulmn names\n",
    "names = [\"age\", \"sex\", \"cp\", \"trestbps\", \"chol\", \"fbs\", \"restecg\", \"thalach\", \"exang\", \"oldpeak\", \"slope\", \"ca\", \"thal\", \"heartdisease\"]\n",
    "# Read the data from the URL and add the above col names to the dataframe\n",
    "heartDisease = pd.read_csv(urlopen(data), names=names)\n",
    "heartDisease.head(3)"
   ]
  },
  {
   "cell_type": "code",
   "execution_count": 8,
   "metadata": {
    "id": "SFQ7ezzUq1B0"
   },
   "outputs": [],
   "source": [
    "# Drop columns having large missing values\n",
    "del heartDisease[\"ca\"]\n",
    "del heartDisease[\"slope\"]\n",
    "del heartDisease[\"thal\"]\n",
    "del heartDisease[\"oldpeak\"]"
   ]
  },
  {
   "cell_type": "code",
   "execution_count": 9,
   "metadata": {
    "colab": {
     "base_uri": "https://localhost:8080/"
    },
    "id": "24rcUxKjq7nd",
    "outputId": "bbae080b-c042-4948-f812-0c58dc181b47"
   },
   "outputs": [
    {
     "data": {
      "text/plain": [
       "age              int64\n",
       "sex              int64\n",
       "cp               int64\n",
       "trestbps        object\n",
       "chol            object\n",
       "fbs             object\n",
       "restecg         object\n",
       "thalach         object\n",
       "exang           object\n",
       "heartdisease     int64\n",
       "dtype: object"
      ]
     },
     "execution_count": 9,
     "metadata": {
      "tags": []
     },
     "output_type": "execute_result"
    }
   ],
   "source": [
    "# Replace missing values with nan, in the rest of the columns which are not dropped\n",
    "heartDisease = heartDisease.replace(\"?\", np.nan)\n",
    "heartDisease.dtypes"
   ]
  },
  {
   "cell_type": "code",
   "execution_count": 10,
   "metadata": {
    "id": "l2cQQNTxq_8I"
   },
   "outputs": [],
   "source": [
    "# Pass a list of tuples containing the (source,dest) pairs for constructing the network graph as per bayseian belief network\n",
    "model = BayesianModel([(\"age\", \"trestbps\"),\n",
    "                       (\"age\", \"fbs\"),\n",
    "                       (\"sex\", \"trestbps\"),\n",
    "                       (\"exang\", \"trestbps\"),\n",
    "                       (\"trestbps\", \"heartdisease\"),\n",
    "                       (\"fbs\", \"heartdisease\"),\n",
    "                       (\"heartdisease\", \"restecg\"),\n",
    "                       (\"heartdisease\", \"thalach\"),\n",
    "                       (\"heartdisease\", \"chol\")])"
   ]
  },
  {
   "cell_type": "code",
   "execution_count": 11,
   "metadata": {
    "id": "lNvVUsGbrIR8"
   },
   "outputs": [],
   "source": [
    "# fit data to the graph model\n",
    "model.fit(heartDisease, estimator=MaximumLikelihoodEstimator)"
   ]
  },
  {
   "cell_type": "code",
   "execution_count": 13,
   "metadata": {
    "colab": {
     "base_uri": "https://localhost:8080/"
    },
    "id": "QRwWjLbkrSJr",
    "outputId": "65398f65-6b95-416e-8e5e-1f07182dea11"
   },
   "outputs": [
    {
     "name": "stdout",
     "output_type": "stream",
     "text": [
      "+---------+------------+\n",
      "| age(28) | 0.00383142 |\n",
      "+---------+------------+\n",
      "| age(29) | 0.00383142 |\n",
      "+---------+------------+\n",
      "| age(30) | 0.00383142 |\n",
      "+---------+------------+\n",
      "| age(31) | 0.00766284 |\n",
      "+---------+------------+\n",
      "| age(32) | 0.0153257  |\n",
      "+---------+------------+\n",
      "| age(33) | 0.00766284 |\n",
      "+---------+------------+\n",
      "| age(34) | 0.0153257  |\n",
      "+---------+------------+\n",
      "| age(35) | 0.0191571  |\n",
      "+---------+------------+\n",
      "| age(36) | 0.0191571  |\n",
      "+---------+------------+\n",
      "| age(37) | 0.0306513  |\n",
      "+---------+------------+\n",
      "| age(38) | 0.0191571  |\n",
      "+---------+------------+\n",
      "| age(39) | 0.0344828  |\n",
      "+---------+------------+\n",
      "| age(40) | 0.0191571  |\n",
      "+---------+------------+\n",
      "| age(41) | 0.0383142  |\n",
      "+---------+------------+\n",
      "| age(42) | 0.0268199  |\n",
      "+---------+------------+\n",
      "| age(43) | 0.0421456  |\n",
      "+---------+------------+\n",
      "| age(44) | 0.0268199  |\n",
      "+---------+------------+\n",
      "| age(45) | 0.0229885  |\n",
      "+---------+------------+\n",
      "| age(46) | 0.045977   |\n",
      "+---------+------------+\n",
      "| age(47) | 0.0344828  |\n",
      "+---------+------------+\n",
      "| age(48) | 0.0613027  |\n",
      "+---------+------------+\n",
      "| age(49) | 0.0421456  |\n",
      "+---------+------------+\n",
      "| age(50) | 0.045977   |\n",
      "+---------+------------+\n",
      "| age(51) | 0.0344828  |\n",
      "+---------+------------+\n",
      "| age(52) | 0.0574713  |\n",
      "+---------+------------+\n",
      "| age(53) | 0.0383142  |\n",
      "+---------+------------+\n",
      "| age(54) | 0.0842912  |\n",
      "+---------+------------+\n",
      "| age(55) | 0.0536398  |\n",
      "+---------+------------+\n",
      "| age(56) | 0.0306513  |\n",
      "+---------+------------+\n",
      "| age(57) | 0.0191571  |\n",
      "+---------+------------+\n",
      "| age(58) | 0.0344828  |\n",
      "+---------+------------+\n",
      "| age(59) | 0.0229885  |\n",
      "+---------+------------+\n",
      "| age(60) | 0.00766284 |\n",
      "+---------+------------+\n",
      "| age(61) | 0.00766284 |\n",
      "+---------+------------+\n",
      "| age(62) | 0.00766284 |\n",
      "+---------+------------+\n",
      "| age(63) | 0.00383142 |\n",
      "+---------+------------+\n",
      "| age(65) | 0.0114943  |\n",
      "+---------+------------+\n",
      "| age(66) | 0          |\n",
      "+---------+------------+\n"
     ]
    }
   ],
   "source": [
    "# get the conditional probability distribution for a given attribute based on training data\n",
    "print(model.get_cpds(\"age\"))"
   ]
  },
  {
   "cell_type": "code",
   "execution_count": 14,
   "metadata": {
    "id": "UryXn_IdrUsp"
   },
   "outputs": [],
   "source": [
    "from pgmpy.inference import VariableElimination"
   ]
  },
  {
   "cell_type": "code",
   "execution_count": 15,
   "metadata": {
    "id": "q5qqp7__rcDO"
   },
   "outputs": [],
   "source": [
    "# Perform inference of new data on the model using the variable elimination method\n",
    "heartDisease_infer = VariableElimination(model)"
   ]
  },
  {
   "cell_type": "code",
   "execution_count": 16,
   "metadata": {
    "colab": {
     "base_uri": "https://localhost:8080/"
    },
    "id": "5tZOzopRrfkC",
    "outputId": "ac8acdf8-11a3-4ba3-d0ca-43f0d70b9871"
   },
   "outputs": [
    {
     "name": "stderr",
     "output_type": "stream",
     "text": [
      "Finding Elimination Order: : 100%|██████████| 7/7 [00:00<00:00, 2114.98it/s]\n",
      "Eliminating: fbs: 100%|██████████| 7/7 [00:00<00:00, 355.89it/s]"
     ]
    },
    {
     "name": "stdout",
     "output_type": "stream",
     "text": [
      "+-----------------+---------------------+\n",
      "| heartdisease    |   phi(heartdisease) |\n",
      "+=================+=====================+\n",
      "| heartdisease(0) |              0.6630 |\n",
      "+-----------------+---------------------+\n",
      "| heartdisease(1) |              0.3370 |\n",
      "+-----------------+---------------------+\n"
     ]
    },
    {
     "name": "stderr",
     "output_type": "stream",
     "text": [
      "\n"
     ]
    }
   ],
   "source": [
    "# Query the data attribute from training by providing any new evidance values you want to test with \n",
    "q = heartDisease_infer.query(variables=[\"heartdisease\"],evidence={\"age\": 29})\n",
    "# Query will return a probability distribution over all possible values taken by the attribute \n",
    "print(q)\n",
    "# The below means that the person aged 29 has a 66.3% chance of `not having heart disease` and 33.7% chance of `having heart disease`"
   ]
  },
  {
   "cell_type": "markdown",
   "metadata": {
    "id": "Q9d1AJvQrj9T"
   },
   "source": [
    "# End"
   ]
  }
 ],
 "metadata": {
  "colab": {
   "collapsed_sections": [],
   "name": "Bayesian network.ipynb",
   "provenance": []
  },
  "kernelspec": {
   "display_name": "Python 3",
   "language": "python",
   "name": "python3"
  },
  "language_info": {
   "codemirror_mode": {
    "name": "ipython",
    "version": 3
   },
   "file_extension": ".py",
   "mimetype": "text/x-python",
   "name": "python",
   "nbconvert_exporter": "python",
   "pygments_lexer": "ipython3",
   "version": "3.6.9"
  }
 },
 "nbformat": 4,
 "nbformat_minor": 1
}
